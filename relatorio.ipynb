{
 "cells": [
  {
   "cell_type": "markdown",
   "metadata": {},
   "source": [
    "# **Análise das Eleições Municipais de 2020 do Estado de São Paulo - Desafio Técnico**\n",
    "\n",
    "---\n",
    "\n",
    "<center><img alt=\"Logo anp\" width=\"30%\" src=\"./img/banner.jpg\"></center>"
   ]
  },
  {
   "cell_type": "markdown",
   "metadata": {},
   "source": [
    "## **1. Objetivo do relatório**\n",
    "\n",
    "Este projeto tem como objetivo realizar uma análise exploratória nas bases de dados fornecidas, assim como também realizar o tratamento desses dados e por fim realizar consultas trazendo insights importantes para futuras tomadas de decisões. \n",
    "\n",
    "Os pontos a serem trazidos neste relatório são:\n",
    "- Em qual município o candidato X foi mais votado;\n",
    "- Qual candidato foi mais votado em cada município;\n",
    "- Qual perfil do eleitorado (faixa etária, gênero, grau de escolaridade,\n",
    "etc.) mais votou em cada candidato.\n",
    "\n",
    "##### **1.1. Sobre os dados utilizados**\n",
    "\n",
    "Os dados fornecidos para a execução desse relatório são bases de dados do Perfil do Eeitorado e os resultados das urnas de São Paulo 1° turno, ambos do ano de 2020. A análise será apenas do Estado de São Paulo e seus Municípios.\n",
    "\n",
    "---\n"
   ]
  },
  {
   "cell_type": "markdown",
   "metadata": {},
   "source": [
    "## **2. Coleta dos dados** \n",
    "\n",
    "Para podermos iniciar nossos trabalhos, iremos coletar os dados necessários e fornecidos para a execução deste relatório.\n"
   ]
  },
  {
   "cell_type": "markdown",
   "metadata": {},
   "source": [
    "##### **2.1. Importação das bibliotecas que serão utilizadas**"
   ]
  },
  {
   "cell_type": "code",
   "execution_count": 1,
   "metadata": {},
   "outputs": [],
   "source": [
    "#importando bibliotecas\n",
    "import pandas as pd\n",
    "import matplotlib.pyplot as plt"
   ]
  },
  {
   "cell_type": "markdown",
   "metadata": {},
   "source": [
    "##### **2.2. Coleta dos dados necessários para análise**\n",
    "\n",
    "Agora iremos coletar os dados que serão ultilizados fazendo a leitura dos arquivos .csv que estão disponíveis na pasta \"csv\" no repositório deste projeto."
   ]
  },
  {
   "cell_type": "code",
   "execution_count": 2,
   "metadata": {},
   "outputs": [],
   "source": [
    "#Coleta do perfil do eleitorado já os transformando em DataFrame\n",
    "eleitorado = pd.read_csv('./csv/perfil_eleitorado_2020.csv', encoding='ISO-8859-1', sep=(';'))\n",
    "#Coleta dos resultados já os transformando em DataFrame\n",
    "resultados = pd.read_csv('./csv/SP_turno_1.csv', encoding='ISO-8859-1', sep=(';'))"
   ]
  },
  {
   "cell_type": "markdown",
   "metadata": {},
   "source": [
    "---"
   ]
  },
  {
   "cell_type": "markdown",
   "metadata": {},
   "source": [
    "## **3. Análise exploratória** \n",
    "\n",
    "Com os dados carregados iremos ter nosso primeiro contato com eles, compreendendo suas características que o definem e sua estrutura. Vamos fazer esta etapa por partes, explorando **primeiro o DataSet do <u>Perfil do Eleitorado</u> e logo em seguida vamos explorar o <u>DataSet de Resultados</u>.**"
   ]
  },
  {
   "cell_type": "markdown",
   "metadata": {},
   "source": [
    "### **3.1. Perfil do Eleitorado**\n",
    "\n",
    "- **<u>Dimensão do DataSet<u>**"
   ]
  },
  {
   "cell_type": "code",
   "execution_count": 3,
   "metadata": {},
   "outputs": [
    {
     "data": {
      "text/plain": [
       "(4248507, 21)"
      ]
     },
     "execution_count": 3,
     "metadata": {},
     "output_type": "execute_result"
    }
   ],
   "source": [
    "eleitorado.shape"
   ]
  },
  {
   "cell_type": "markdown",
   "metadata": {},
   "source": [
    "Como podemos verificar que nosso DataSet contém **4.248.507 linhas/registros** por **21 colunas/variáveis**."
   ]
  },
  {
   "cell_type": "markdown",
   "metadata": {},
   "source": [
    "- **<u>Verificando colunas / Dicionário de Variáveis<u>**"
   ]
  },
  {
   "cell_type": "code",
   "execution_count": 4,
   "metadata": {},
   "outputs": [
    {
     "data": {
      "text/plain": [
       "Index(['DT_GERACAO', 'HH_GERACAO', 'ANO_ELEICAO', 'SG_UF', 'CD_MUNICIPIO',\n",
       "       'NM_MUNICIPIO', 'CD_MUN_SIT_BIOMETRIA', 'DS_MUN_SIT_BIOMETRIA',\n",
       "       'NR_ZONA', 'CD_GENERO', 'DS_GENERO', 'CD_ESTADO_CIVIL',\n",
       "       'DS_ESTADO_CIVIL', 'CD_FAIXA_ETARIA', 'DS_FAIXA_ETARIA',\n",
       "       'CD_GRAU_ESCOLARIDADE', 'DS_GRAU_ESCOLARIDADE', 'QT_ELEITORES_PERFIL',\n",
       "       'QT_ELEITORES_BIOMETRIA', 'QT_ELEITORES_DEFICIENCIA',\n",
       "       'QT_ELEITORES_INC_NM_SOCIAL'],\n",
       "      dtype='object')"
      ]
     },
     "execution_count": 4,
     "metadata": {},
     "output_type": "execute_result"
    }
   ],
   "source": [
    "eleitorado.columns"
   ]
  },
  {
   "cell_type": "markdown",
   "metadata": {},
   "source": [
    "Ao verificar as 16 colunas do DataSet, podemos fazer um dicionário para dar um significado mais amplo para elas e então compreender melhor cada váriavel.\n",
    "\n",
    "* `DT_GERACAO` - Data da extração dos dados para geração do arquivo.\n",
    "* `HH_GERACAO` - Hora da extração dos dados para geração do arquivo.\n",
    "* `ANO_ELEICAO` - Ano de referência da eleição para geração do arquivo. \n",
    "* `SG_UF` - Sigla da Unidade da Federação.\n",
    "* `CD_MUNICIPIO` - Código do município do domicílio eleitoral do eleitor.\n",
    "* `NM_MUNICIPIO` - Nome do município do domicílio eleitoral do eleitor.\n",
    "* `CD_MUN_SIT_BIOMETRIA` - Desconhecido.\n",
    "* `DS_MUN_SIT_BIOMETRIA` - Desconhecido.\n",
    "* `NR_ZONA` - Número da zona eleitoral onde ocorreu a eleição.\n",
    "* `CD_GENERO` - Código do gênero do eleitor.\n",
    "* `DS_GENERO` - Gênero do eleitor.\n",
    "* `CD_ESTADO_CIVIL` - Código do estado civil do eleitor.\n",
    "* `DS_ESTADO_CIVIL` - Estado civil do eleitor de acordo.\n",
    "* `CD_FAIXA_ETARIA` - Código da faixa etária a qual pertence o eleitor. \n",
    "* `DS_FAIXA_ETARIA` - Faixa etária a qual pertence o eleitor.\n",
    "* `CD_GRAU_ESCOLARIDADE` - Código do grau de escolaridade do eleitor.\n",
    "* `DS_GRAU_ESCOLARIDADE` - Grau de escolaridade do eleitor.\n",
    "* `QT_ELEITORES_PERFIL` - Desconhecido.\n",
    "* `QT_ELEITORES_BIOMETRIA` - Desconhecido.\n",
    "* `QT_ELEITORES_DEFICIENCIA` - Desconhecido.\n",
    "* `QT_ELEITORES_INC_NM_SOCIAL` - Desconhecido.\n"
   ]
  },
  {
   "cell_type": "markdown",
   "metadata": {},
   "source": [
    "- **<u>Checando os tipos de dados</u>**\n",
    "\n",
    "Ao compreender o que significa cada coluna/váriavel, podemos verificar quais os tipos de dados que compõem cada uma delas."
   ]
  },
  {
   "cell_type": "code",
   "execution_count": 5,
   "metadata": {},
   "outputs": [
    {
     "name": "stdout",
     "output_type": "stream",
     "text": [
      "<class 'pandas.core.frame.DataFrame'>\n",
      "RangeIndex: 4248507 entries, 0 to 4248506\n",
      "Data columns (total 21 columns):\n",
      " #   Column                      Dtype \n",
      "---  ------                      ----- \n",
      " 0   DT_GERACAO                  object\n",
      " 1   HH_GERACAO                  object\n",
      " 2   ANO_ELEICAO                 int64 \n",
      " 3   SG_UF                       object\n",
      " 4   CD_MUNICIPIO                int64 \n",
      " 5   NM_MUNICIPIO                object\n",
      " 6   CD_MUN_SIT_BIOMETRIA        int64 \n",
      " 7   DS_MUN_SIT_BIOMETRIA        object\n",
      " 8   NR_ZONA                     int64 \n",
      " 9   CD_GENERO                   int64 \n",
      " 10  DS_GENERO                   object\n",
      " 11  CD_ESTADO_CIVIL             int64 \n",
      " 12  DS_ESTADO_CIVIL             object\n",
      " 13  CD_FAIXA_ETARIA             int64 \n",
      " 14  DS_FAIXA_ETARIA             object\n",
      " 15  CD_GRAU_ESCOLARIDADE        int64 \n",
      " 16  DS_GRAU_ESCOLARIDADE        object\n",
      " 17  QT_ELEITORES_PERFIL         int64 \n",
      " 18  QT_ELEITORES_BIOMETRIA      int64 \n",
      " 19  QT_ELEITORES_DEFICIENCIA    int64 \n",
      " 20  QT_ELEITORES_INC_NM_SOCIAL  int64 \n",
      "dtypes: int64(12), object(9)\n",
      "memory usage: 680.7+ MB\n"
     ]
    }
   ],
   "source": [
    "#Verificar tipos de dados\n",
    "eleitorado.info()"
   ]
  },
  {
   "cell_type": "markdown",
   "metadata": {},
   "source": [
    "Ao verificar os tipos de dados do nosso DataSet, podemos perceber que há um pequeno problema: As colunas **DT_GERACAO** e **HH_GERACAO** que deveriam estar em formato de data e hora, estão do tipo \"object\", o que dificultaria certas análises com esses dados. Mas para essa análise em específico, não nos trará problema, pois com os objetivos apresentados não usaremos essas váriaveis."
   ]
  },
  {
   "cell_type": "markdown",
   "metadata": {},
   "source": [
    "- **<u>Checando Valores Únicos</u>**"
   ]
  },
  {
   "cell_type": "code",
   "execution_count": 6,
   "metadata": {},
   "outputs": [
    {
     "data": {
      "text/plain": [
       "DT_GERACAO                       1\n",
       "HH_GERACAO                       1\n",
       "ANO_ELEICAO                      1\n",
       "SG_UF                           26\n",
       "CD_MUNICIPIO                  5569\n",
       "NM_MUNICIPIO                  5296\n",
       "CD_MUN_SIT_BIOMETRIA             1\n",
       "DS_MUN_SIT_BIOMETRIA             1\n",
       "NR_ZONA                        421\n",
       "CD_GENERO                        3\n",
       "DS_GENERO                        3\n",
       "CD_ESTADO_CIVIL                  6\n",
       "DS_ESTADO_CIVIL                  6\n",
       "CD_FAIXA_ETARIA                 23\n",
       "DS_FAIXA_ETARIA                 23\n",
       "CD_GRAU_ESCOLARIDADE             9\n",
       "DS_GRAU_ESCOLARIDADE             9\n",
       "QT_ELEITORES_PERFIL           2953\n",
       "QT_ELEITORES_BIOMETRIA        2658\n",
       "QT_ELEITORES_DEFICIENCIA       173\n",
       "QT_ELEITORES_INC_NM_SOCIAL       8\n",
       "dtype: int64"
      ]
     },
     "execution_count": 6,
     "metadata": {},
     "output_type": "execute_result"
    }
   ],
   "source": [
    "#Verificar valores unicos\n",
    "eleitorado.nunique()"
   ]
  },
  {
   "cell_type": "markdown",
   "metadata": {},
   "source": [
    "Observando os valores únicos do DataSet de Perfil do Eleitorado, podemos perceber que há alguma colunas com apenas um tipo de dado ou valor, ou seja, são colunas que podemos retirar do nosso DataFrame pois não agregaria na nossa análise em específico."
   ]
  },
  {
   "cell_type": "markdown",
   "metadata": {},
   "source": []
  }
 ],
 "metadata": {
  "kernelspec": {
   "display_name": "base",
   "language": "python",
   "name": "python3"
  },
  "language_info": {
   "codemirror_mode": {
    "name": "ipython",
    "version": 3
   },
   "file_extension": ".py",
   "mimetype": "text/x-python",
   "name": "python",
   "nbconvert_exporter": "python",
   "pygments_lexer": "ipython3",
   "version": "3.11.3"
  },
  "orig_nbformat": 4
 },
 "nbformat": 4,
 "nbformat_minor": 2
}
